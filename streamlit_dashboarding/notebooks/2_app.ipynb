{
 "cells": [
  {
   "cell_type": "markdown",
   "id": "29ae0e06-b7f8-4dd9-b419-19f46e10d0c0",
   "metadata": {},
   "source": [
    "# Key Indicators"
   ]
  },
  {
   "cell_type": "code",
   "execution_count": 1,
   "id": "ef66e5d7-1edb-4b61-bdbe-21df53f8c767",
   "metadata": {},
   "outputs": [],
   "source": [
    "import plotly.express as px\n",
    "import plotly.graph_objects as go\n",
    "import pandas as pd\n",
    "import ipywidgets as widgets\n",
    "from IPython.display import clear_output"
   ]
  },
  {
   "cell_type": "code",
   "execution_count": 2,
   "id": "330f05a9-25f1-4753-9ee0-ecbe2869d1a1",
   "metadata": {},
   "outputs": [],
   "source": [
    "df_country_indicators = pd.read_csv('https://plotly.github.io/datasets/country_indicators.csv')"
   ]
  },
  {
   "cell_type": "code",
   "execution_count": 3,
   "id": "29ff4faa-663d-4c1a-918c-acf3ae3a1130",
   "metadata": {},
   "outputs": [],
   "source": [
    "xaxis_indicator = \"Industry, value added (% of GDP)\"\n",
    "yaxis_indicator = \"Services, etc., value added (% of GDP)\""
   ]
  },
  {
   "cell_type": "code",
   "execution_count": 4,
   "id": "a8a42acc-0dd6-406b-89ab-868089adee71",
   "metadata": {},
   "outputs": [],
   "source": [
    "def on_button_clicked(b):\n",
    "    with output: \n",
    "        clear_output()\n",
    "        df_widget = df_country_indicators[ (df_country_indicators['Year']== year_slider_widget.value) ] \n",
    "        \n",
    "        fig = go.Figure()\n",
    "        fig.add_trace(\n",
    "            go.Scatter(\n",
    "                mode = 'markers',\n",
    "                x = df_widget[\n",
    "                    (df_widget['Indicator Name'] == xaxis_widget.value) & \n",
    "                    (~df_widget['Country Name'].isin(country_color_widget.value))\n",
    "                ]['Value'],\n",
    "                y = df_widget[\n",
    "                    (df_widget['Indicator Name'] == yaxis_widget.value) & \n",
    "                    (~df_widget['Country Name'].isin(country_color_widget.value))\n",
    "                ]['Value'],\n",
    "                marker=dict(\n",
    "                    color='dimgrey',\n",
    "                    opacity=0.75,\n",
    "                    line=dict(\n",
    "                        color='darkgrey',\n",
    "                        width=1\n",
    "                    )\n",
    "                ),\n",
    "                showlegend = False,\n",
    "                hoverinfo=\"text\",\n",
    "                hovertext = df_widget[(df_widget['Indicator Name'] == xaxis_widget.value) & (~df_widget['Country Name'].isin(country_color_widget.value))]['Country Name']\n",
    "            )\n",
    "        )\n",
    "        \n",
    "        fig.add_trace(\n",
    "            go.Scatter(\n",
    "                mode = 'markers',\n",
    "                marker_symbol = 'hexagram',\n",
    "                x = df_widget[\n",
    "                    (df_widget['Indicator Name'] == xaxis_widget.value) & \n",
    "                    (df_widget['Country Name'].isin(country_color_widget.value))\n",
    "                ]['Value'],\n",
    "                y = df_widget[\n",
    "                    (df_widget['Indicator Name'] == yaxis_widget.value) & \n",
    "                    (df_widget['Country Name'].isin(country_color_widget.value))\n",
    "                ]['Value'],\n",
    "                marker=dict(\n",
    "                    color='palevioletred',\n",
    "                    size = 10,\n",
    "                    line=dict(\n",
    "                        color='darkred',\n",
    "                        width=1\n",
    "                    )\n",
    "                ),\n",
    "                showlegend = False,\n",
    "                hoverinfo=\"text\",\n",
    "                hovertext = df_widget[(df_widget['Indicator Name'] == xaxis_widget.value) & (df_widget['Country Name'].isin(country_color_widget.value))]['Country Name']\n",
    "            )\n",
    "        )\n",
    "        \n",
    "        fig.update_xaxes(title = xaxis_widget.value + ' [' + xaxis_type_widget.value + ']', type = xaxis_type_widget.value )\n",
    "        fig.update_yaxes(title = yaxis_widget.value + ' [' + yaxis_type_widget.value + ']', type = yaxis_type_widget.value )\n",
    "        fig.update_layout(width = 750, height = 500, title = 'Country Indicators - ' + str(year_slider_widget.value))\n",
    "        fig.show()"
   ]
  },
  {
   "cell_type": "code",
   "execution_count": 5,
   "id": "15026753-9204-4367-a9ef-48c037325eb6",
   "metadata": {},
   "outputs": [],
   "source": [
    "# xaxis widget\n",
    "xaxis_widget = widgets.Dropdown(\n",
    "    options=df_country_indicators['Indicator Name'].unique(),\n",
    "    value=xaxis_indicator,\n",
    "    description='Xaxis :',\n",
    "    layout = {'width': 'initial'}\n",
    ")\n",
    "\n",
    "xaxis_type_widget = widgets.ToggleButtons(\n",
    "    options = ['linear', 'log'],\n",
    "    value = 'log',\n",
    "    description = '',\n",
    ")\n",
    "\n",
    "# yaxis widget\n",
    "yaxis_widget = widgets.Dropdown(\n",
    "    options=[\n",
    "        indicator for indicator in df_country_indicators['Indicator Name'].unique() if indicator != xaxis_widget.value\n",
    "    ],\n",
    "    value=yaxis_indicator,\n",
    "    description='Yaxis:',\n",
    "    layout = {'width': 'initial'}\n",
    ")\n",
    "\n",
    "yaxis_type_widget = widgets.ToggleButtons(\n",
    "    options = ['linear', 'log'],\n",
    "    value = 'linear',\n",
    "    description = '',\n",
    "    button_style=''\n",
    ")"
   ]
  },
  {
   "cell_type": "code",
   "execution_count": 6,
   "id": "9a397b57-8965-4329-a918-0c585aa0c243",
   "metadata": {},
   "outputs": [],
   "source": [
    "# year slider widget\n",
    "year_slider_widget = widgets.IntSlider(\n",
    "    description = 'Year: ',\n",
    "    value = 2007,\n",
    "    min = df_country_indicators['Year'].min(),\n",
    "    max = df_country_indicators['Year'].max(),\n",
    "    step = 5\n",
    ")"
   ]
  },
  {
   "cell_type": "code",
   "execution_count": 7,
   "id": "3cf42c5a-6521-4388-9cf4-d0194019d55f",
   "metadata": {},
   "outputs": [],
   "source": [
    "# ensures x and y axis are not the same\n",
    "def option_change_xaxis_widget(change):\n",
    "    yaxis_widget.options = [\n",
    "        indicator for indicator in df_country_indicators['Indicator Name'].unique() if indicator != change.new\n",
    "    ]\n",
    "    yaxis_widget.value = yaxis_widget.options[0]\n",
    "\n",
    "xaxis_widget.observe(option_change_xaxis_widget, 'value')"
   ]
  },
  {
   "cell_type": "code",
   "execution_count": 8,
   "id": "902736be-0778-4210-b806-cfc910230ed4",
   "metadata": {},
   "outputs": [],
   "source": [
    "country_color_widget = widgets.SelectMultiple(\n",
    "    options = df_country_indicators[\"Country Name\"].unique(),\n",
    "    value = [\"Canada\", \"United States\", \"Mexico\", \"India\", \"China\", \"United Kingdom\", \"Norway\", \"Germany\"],\n",
    "    description = 'Color',\n",
    "    rows = 10,\n",
    "    disabled=False\n",
    ")"
   ]
  },
  {
   "cell_type": "code",
   "execution_count": 9,
   "id": "513ddb64-521f-4727-af87-597c49cd0cc4",
   "metadata": {},
   "outputs": [],
   "source": [
    "box_layout = widgets.Layout(\n",
    "    display = \"flex\",\n",
    "    flex_dlow = \"row\",\n",
    "    align_items = \"center\",\n",
    "    width = \"100%\",\n",
    "    justify_content=\"center\"\n",
    ")"
   ]
  },
  {
   "cell_type": "code",
   "execution_count": 10,
   "id": "ba49136c-06d1-43a3-a887-50a3c16bc089",
   "metadata": {},
   "outputs": [],
   "source": [
    "tab_nest = widgets.Tab()\n",
    "# tab - 1\n",
    "tab_1_row_1 = widgets.HBox(children = [xaxis_widget, xaxis_type_widget], layout = box_layout)\n",
    "tab_1_row_2 = widgets.Box(children = [yaxis_widget,yaxis_type_widget], layout = box_layout)\n",
    "# tab_1_row_3 = widgets.Box(children = [year_slider_widget], layout = box_layout)\n",
    "tab_1 = widgets.VBox(children = [tab_1_row_1, tab_1_row_2])\n",
    "# tab - 2\n",
    "tab_2 = widgets.HBox(children = [country_color_widget,year_slider_widget], layout = box_layout)\n",
    "tab_nest.children = [tab_1, tab_2]\n",
    "tab_titles= ['X & Y axes', 'Color & Year']\n",
    "for ind, name in enumerate(tab_titles):\n",
    "    tab_nest.set_title(index = ind, title = name)"
   ]
  },
  {
   "cell_type": "code",
   "execution_count": 11,
   "id": "fa0f395f-acef-4d78-905a-469e653ad487",
   "metadata": {},
   "outputs": [],
   "source": [
    "button = widgets.Button(\n",
    "    description = 'Plot Indicators'\n",
    ")\n",
    "button.on_click(on_button_clicked)\n",
    "output = widgets.Output()"
   ]
  },
  {
   "cell_type": "code",
   "execution_count": 12,
   "id": "81b1ab41-fa01-42c7-8d1a-2da90dcf03e1",
   "metadata": {},
   "outputs": [
    {
     "data": {
      "application/vnd.jupyter.widget-view+json": {
       "model_id": "1619aeddf2074ab5a15152cb9f36dc3d",
       "version_major": 2,
       "version_minor": 0
      },
      "text/plain": [
       "Tab(children=(VBox(children=(HBox(children=(Dropdown(description='Xaxis :', index=9, layout=Layout(width='init…"
      ]
     },
     "metadata": {},
     "output_type": "display_data"
    },
    {
     "data": {
      "application/vnd.jupyter.widget-view+json": {
       "model_id": "8b3c0a26ad1d46bf8e466550b9a000a9",
       "version_major": 2,
       "version_minor": 0
      },
      "text/plain": [
       "Box(children=(Button(description='Plot Indicators', style=ButtonStyle()),), layout=Layout(align_items='center'…"
      ]
     },
     "metadata": {},
     "output_type": "display_data"
    },
    {
     "data": {
      "application/vnd.jupyter.widget-view+json": {
       "model_id": "64c9b9eda3864cf8bf2f7f1aa0b36395",
       "version_major": 2,
       "version_minor": 0
      },
      "text/plain": [
       "Box(children=(Output(),), layout=Layout(align_items='center', display='flex', justify_content='center', width=…"
      ]
     },
     "metadata": {},
     "output_type": "display_data"
    }
   ],
   "source": [
    "box_layout = widgets.Layout(\n",
    "    display = \"flex\",\n",
    "    flex_dlow = \"row\",\n",
    "    align_items = \"center\",\n",
    "    width = \"100%\",\n",
    "    justify_content=\"center\"\n",
    ")\n",
    "\n",
    "display(tab_nest)\n",
    "display(widgets.Box(children = [button], layout = box_layout))\n",
    "display(widgets.Box(children = [output], layout = box_layout))"
   ]
  }
 ],
 "metadata": {
  "kernelspec": {
   "display_name": "Python 3 (ipykernel)",
   "language": "python",
   "name": "python3"
  },
  "language_info": {
   "codemirror_mode": {
    "name": "ipython",
    "version": 3
   },
   "file_extension": ".py",
   "mimetype": "text/x-python",
   "name": "python",
   "nbconvert_exporter": "python",
   "pygments_lexer": "ipython3",
   "version": "3.10.6"
  }
 },
 "nbformat": 4,
 "nbformat_minor": 5
}
