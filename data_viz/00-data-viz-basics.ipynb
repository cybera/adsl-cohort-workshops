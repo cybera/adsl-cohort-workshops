{
 "cells": [
  {
   "cell_type": "markdown",
   "metadata": {},
   "source": [
    "# Data Viz Basics\n",
    "\n",
    "This notebook is used for generating examples of data viz basics"
   ]
  },
  {
   "cell_type": "code",
   "execution_count": null,
   "metadata": {},
   "outputs": [],
   "source": [
    "import plotly.express as px\n",
    "import pandas as pd"
   ]
  },
  {
   "cell_type": "code",
   "execution_count": null,
   "metadata": {},
   "outputs": [],
   "source": [
    "# Load Plotly dataset of Gapminder data\n",
    "df = px.data.gapminder()\n",
    "df.head()"
   ]
  },
  {
   "cell_type": "markdown",
   "metadata": {},
   "source": [
    "### Scatter Plots\n",
    "\n",
    "Scatter plots are excellent ways to compare data that is discrete, i.e. non-continuous. If there's no obvious expectation that the data may flow from one value to the next on the x-axis (i.e. time), relationships between the data sources can be visualized by matching data.\n",
    "\n",
    "In the below image, it's clear that there's a moderately strong positive relationship between life expectancy and GDP per capita, at least in G7 countries. This same data could be shown over time, in which case a temporal component could be included and a casual relationship could be inferred, but regardless of *when* the data was collected, the relationship generally holds."
   ]
  },
  {
   "cell_type": "code",
   "execution_count": null,
   "metadata": {},
   "outputs": [],
   "source": [
    "# Scatter plot\n",
    "g7 = ['Canada', 'United States', 'United Kingdom', 'Germany', 'France', 'Italy', 'Japan']\n",
    "fig = px.scatter(df[df['country'].isin(g7)], x='gdpPercap', y='lifeExp', color = 'country',\n",
    "           width=500, height=400, title='G7 life expectancy as a result of GDP',\n",
    "           labels={'lifeExp':'Life Expectancy (years)', 'gdpPercap':'GDP per capita (USD)', 'country':'Country'})\n",
    "fig.show()"
   ]
  },
  {
   "cell_type": "markdown",
   "metadata": {},
   "source": [
    "### Line Plots\n",
    "Similar to scatter plots, line plots can connect sets of data, only with the implicit assumption that the data is *continuous*, or connected from one value to the next. This is obvious when the independent variable is some measure of **time**, but less obvious when it's another factor.\n",
    "\n",
    "Though the plotted data is ostentibly discrete, as in we only have measurements for each year, the implication of the line plot is that the trend is maintained *between* the data points as well, as GDP can be measured at any given time. Though the data could just as easily be plotted as a scatter plot, the line plot implies the relationship holds even between data points, and is (nearly) always more appropriate when the X axis is time."
   ]
  },
  {
   "cell_type": "code",
   "execution_count": null,
   "metadata": {},
   "outputs": [],
   "source": [
    "# Line plot\n",
    "fig = px.line(df[df['country'].isin(g7)], x='year', y='lifeExp', color = 'country',\n",
    "           width=500, height=400, title='G7 life expectancy over time',\n",
    "           labels={'lifeExp':'Life Expectancy', 'year':'Year', 'country':'Country'})\n",
    "fig.show()"
   ]
  },
  {
   "cell_type": "code",
   "execution_count": null,
   "metadata": {},
   "outputs": [],
   "source": [
    "df['country'].unique()"
   ]
  },
  {
   "cell_type": "code",
   "execution_count": null,
   "metadata": {},
   "outputs": [],
   "source": []
  }
 ],
 "metadata": {
  "kernelspec": {
   "display_name": "jupyter",
   "language": "python",
   "name": "python3"
  },
  "language_info": {
   "codemirror_mode": {
    "name": "ipython",
    "version": 3
   },
   "file_extension": ".py",
   "mimetype": "text/x-python",
   "name": "python",
   "nbconvert_exporter": "python",
   "pygments_lexer": "ipython3",
   "version": "3.10.4"
  }
 },
 "nbformat": 4,
 "nbformat_minor": 2
}
